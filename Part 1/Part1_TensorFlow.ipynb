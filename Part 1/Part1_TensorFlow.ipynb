{
  "nbformat": 4,
  "nbformat_minor": 0,
  "metadata": {
    "colab": {
      "name": "Part1_TensorFlow.ipynb",
      "provenance": [],
      "collapsed_sections": [
        "WBk0ZDWY-ff8"
      ]
    },
    "kernelspec": {
      "name": "python3",
      "display_name": "Python 3"
    },
    "accelerator": "GPU"
  },
  "cells": [
    {
      "cell_type": "markdown",
      "metadata": {
        "id": "WBk0ZDWY-ff8"
      },
      "source": [
        "<table align=\"center\">\n",
        "  <td align=\"center\"><a target=\"_blank\" href=\"http://introtodeeplearning.com\">\n",
        "        <img src=\"https://i.ibb.co/Jr88sn2/mit.png\" style=\"padding-bottom:5px;\" />\n",
        "      Visit MIT Deep Learning</a></td>\n",
        "  <td align=\"center\"><a target=\"_blank\" href=\"https://colab.research.google.com/github/aamini/introtodeeplearning/blob/master/lab1/Part1_TensorFlow.ipynb\">\n",
        "        <img src=\"https://i.ibb.co/2P3SLwK/colab.png\"  style=\"padding-bottom:5px;\" />Run in Google Colab</a></td>\n",
        "  <td align=\"center\"><a target=\"_blank\" href=\"https://github.com/aamini/introtodeeplearning/blob/master/lab1/Part1_TensorFlow.ipynb\">\n",
        "        <img src=\"https://i.ibb.co/xfJbPmL/github.png\"  height=\"70px\" style=\"padding-bottom:5px;\"  />View Source on GitHub</a></td>\n",
        "</table>\n",
        "\n",
        "\n",
        "# Copyright Information\n"
      ]
    },
    {
      "cell_type": "code",
      "metadata": {
        "id": "3eI6DUic-6jo"
      },
      "source": [
        "# Copyright 2022 MIT 6.S191 Introduction to Deep Learning. All Rights Reserved.\n",
        "# \n",
        "# Licensed under the MIT License. You may not use this file except in compliance\n",
        "# with the License. Use and/or modification of this code outside of 6.S191 must\n",
        "# reference:\n",
        "#\n",
        "# © MIT 6.S191: Introduction to Deep Learning\n",
        "# http://introtodeeplearning.com\n",
        "#"
      ],
      "execution_count": null,
      "outputs": []
    },
    {
      "cell_type": "markdown",
      "metadata": {
        "id": "57knM8jrYZ2t"
      },
      "source": [
        "# Lab 1: Intro to TensorFlow and Music Generation with RNNs\n",
        "\n",
        "In this lab, you'll get exposure to using TensorFlow and learn how it can be used for solving deep learning tasks. Go through the code and run each cell. Along the way, you'll encounter several ***TODO*** blocks -- follow the instructions to fill them out before running those cells and continuing.\n",
        "\n",
        "\n",
        "# Part 1: Intro to TensorFlow\n",
        "\n",
        "## 0.1 Install TensorFlow\n",
        "\n",
        "TensorFlow is a software library extensively used in machine learning. Here we'll learn how computations are represented and how to define a simple neural network in TensorFlow. For all the labs in 6.S191 2022, we'll be using the latest version of TensorFlow, TensorFlow 2, which affords great flexibility and the ability to imperatively execute operations, just like in Python. You'll notice that TensorFlow 2 is quite similar to Python in its syntax and imperative execution. Let's install TensorFlow and a couple of dependencies.\n"
      ]
    },
    {
      "cell_type": "code",
      "metadata": {
        "id": "LkaimNJfYZ2w",
        "colab": {
          "base_uri": "https://localhost:8080/"
        },
        "outputId": "e3473b43-6e9f-4e46-fff2-49769b42a073"
      },
      "source": [
        "%tensorflow_version 2.x\n",
        "import tensorflow as tf\n",
        "\n",
        "# Download and import the MIT 6.S191 package\n",
        "!pip install mitdeeplearning\n",
        "import mitdeeplearning as mdl\n",
        "\n",
        "import numpy as np\n",
        "import matplotlib.pyplot as plt"
      ],
      "execution_count": 2,
      "outputs": [
        {
          "output_type": "stream",
          "name": "stdout",
          "text": [
            "Collecting mitdeeplearning\n",
            "  Downloading mitdeeplearning-0.2.0.tar.gz (2.1 MB)\n",
            "\u001b[K     |████████████████████████████████| 2.1 MB 5.4 MB/s \n",
            "\u001b[?25hRequirement already satisfied: numpy in /usr/local/lib/python3.7/dist-packages (from mitdeeplearning) (1.21.5)\n",
            "Requirement already satisfied: regex in /usr/local/lib/python3.7/dist-packages (from mitdeeplearning) (2019.12.20)\n",
            "Requirement already satisfied: tqdm in /usr/local/lib/python3.7/dist-packages (from mitdeeplearning) (4.63.0)\n",
            "Requirement already satisfied: gym in /usr/local/lib/python3.7/dist-packages (from mitdeeplearning) (0.17.3)\n",
            "Requirement already satisfied: cloudpickle<1.7.0,>=1.2.0 in /usr/local/lib/python3.7/dist-packages (from gym->mitdeeplearning) (1.3.0)\n",
            "Requirement already satisfied: pyglet<=1.5.0,>=1.4.0 in /usr/local/lib/python3.7/dist-packages (from gym->mitdeeplearning) (1.5.0)\n",
            "Requirement already satisfied: scipy in /usr/local/lib/python3.7/dist-packages (from gym->mitdeeplearning) (1.4.1)\n",
            "Requirement already satisfied: future in /usr/local/lib/python3.7/dist-packages (from pyglet<=1.5.0,>=1.4.0->gym->mitdeeplearning) (0.16.0)\n",
            "Building wheels for collected packages: mitdeeplearning\n",
            "  Building wheel for mitdeeplearning (setup.py) ... \u001b[?25l\u001b[?25hdone\n",
            "  Created wheel for mitdeeplearning: filename=mitdeeplearning-0.2.0-py3-none-any.whl size=2115442 sha256=000f0c63422c28564ccad73272db133503c643dda029747817e11d614200aade\n",
            "  Stored in directory: /root/.cache/pip/wheels/9a/b9/4f/99b7c8c5c75355550b83e1fcfc02956fb40c35eb01e2262877\n",
            "Successfully built mitdeeplearning\n",
            "Installing collected packages: mitdeeplearning\n",
            "Successfully installed mitdeeplearning-0.2.0\n"
          ]
        }
      ]
    },
    {
      "cell_type": "markdown",
      "metadata": {
        "id": "2QNMcdP4m3Vs"
      },
      "source": [
        "## 1.1 Why is TensorFlow called TensorFlow?\n",
        "\n",
        "TensorFlow is called 'TensorFlow' because it handles the flow (node/mathematical operation) of Tensors, which are data structures that you can think of as multi-dimensional arrays. Tensors are represented as n-dimensional arrays of base dataypes such as a string or integer -- they provide a way to generalize vectors and matrices to higher dimensions.\n",
        "\n",
        "The ```shape``` of a Tensor defines its number of dimensions and the size of each dimension. The ```rank``` of a Tensor provides the number of dimensions (n-dimensions) -- you can also think of this as the Tensor's order or degree.\n",
        "\n",
        "Let's first look at 0-d Tensors, of which a scalar is an example:"
      ]
    },
    {
      "cell_type": "code",
      "metadata": {
        "id": "tFxztZQInlAB",
        "colab": {
          "base_uri": "https://localhost:8080/"
        },
        "outputId": "aac7f438-18ea-4456-f53e-4f169a4b2bfd"
      },
      "source": [
        "sport = tf.constant(\"Tennis\", tf.string)\n",
        "number = tf.constant(1.41421356237, tf.float64)\n",
        "\n",
        "print(\"`sport` is a {}-d Tensor\".format(tf.rank(sport).numpy()))\n",
        "print(\"`number` is a {}-d Tensor\".format(tf.rank(number).numpy()))"
      ],
      "execution_count": 6,
      "outputs": [
        {
          "output_type": "stream",
          "name": "stdout",
          "text": [
            "`sport` is a 0-d Tensor\n",
            "`number` is a 0-d Tensor\n"
          ]
        }
      ]
    },
    {
      "cell_type": "markdown",
      "metadata": {
        "id": "-dljcPUcoJZ6"
      },
      "source": [
        "Vectors and lists can be used to create 1-d Tensors:"
      ]
    },
    {
      "cell_type": "code",
      "metadata": {
        "id": "oaHXABe8oPcO"
      },
      "source": [
        "sports = tf.constant([\"Tennis\", \"Basketball\"], tf.string)\n",
        "numbers = tf.constant([3.141592, 1.414213, 2.71821], tf.float64)\n",
        "\n",
        "print(\"`sports` is a {}-d Tensor with shape: {}\".format(tf.rank(sports).numpy(), tf.shape(sports)))\n",
        "print(\"`numbers` is a {}-d Tensor with shape: {}\".format(tf.rank(numbers).numpy(), tf.shape(numbers)))"
      ],
      "execution_count": null,
      "outputs": []
    },
    {
      "cell_type": "markdown",
      "metadata": {
        "id": "gvffwkvtodLP"
      },
      "source": [
        "Next we consider creating 2-d (i.e., matrices) and higher-rank Tensors. For examples, in future labs involving image processing and computer vision, we will use 4-d Tensors. Here the dimensions correspond to the number of example images in our batch, image height, image width, and the number of color channels."
      ]
    },
    {
      "cell_type": "code",
      "metadata": {
        "id": "tFeBBe1IouS3",
        "colab": {
          "base_uri": "https://localhost:8080/"
        },
        "outputId": "e02caa3f-4cfa-49b8-e364-296c9d8e9218"
      },
      "source": [
        "### Defining higher-order Tensors ###\n",
        "\n",
        "'''TODO: Define a 2-d Tensor'''\n",
        "# matrix = # TODO\n",
        "matrix = tf.constant([[1,2,3], [4,5,6]])\n",
        "\n",
        "print(matrix)\n",
        "print(tf.rank(matrix))\n",
        "print(tf.shape(matrix))\n",
        "assert isinstance(matrix, tf.Tensor), \"matrix must be a tf Tensor object\"\n",
        "assert tf.rank(matrix).numpy() == 2"
      ],
      "execution_count": 10,
      "outputs": [
        {
          "output_type": "stream",
          "name": "stdout",
          "text": [
            "tf.Tensor(\n",
            "[[1 2 3]\n",
            " [4 5 6]], shape=(2, 3), dtype=int32)\n",
            "tf.Tensor(2, shape=(), dtype=int32)\n",
            "tf.Tensor([2 3], shape=(2,), dtype=int32)\n"
          ]
        }
      ]
    },
    {
      "cell_type": "code",
      "metadata": {
        "id": "Zv1fTn_Ya_cz",
        "colab": {
          "base_uri": "https://localhost:8080/"
        },
        "outputId": "bbfc482c-8427-4ad2-b7b3-1060972827e6"
      },
      "source": [
        "'''TODO: Define a 4-d Tensor.'''\n",
        "# Use tf.zeros to initialize a 4-d Tensor of zeros with size 10 x 256 x 256 x 3. \n",
        "#   You can think of this as 10 images where each image is RGB 256 x 256.\n",
        "# images = # TODO\n",
        "images = tf.zeros([10,256,256,3])\n",
        "print(tf.shape(images))\n",
        "\n",
        "assert isinstance(images, tf.Tensor), \"matrix must be a tf Tensor object\"\n",
        "assert tf.rank(images).numpy() == 4, \"matrix must be of rank 4\"\n",
        "assert tf.shape(images).numpy().tolist() == [10, 256, 256, 3], \"matrix is incorrect shape\""
      ],
      "execution_count": 14,
      "outputs": [
        {
          "output_type": "stream",
          "name": "stdout",
          "text": [
            "tf.Tensor([ 10 256 256   3], shape=(4,), dtype=int32)\n"
          ]
        }
      ]
    },
    {
      "cell_type": "markdown",
      "metadata": {
        "id": "wkaCDOGapMyl"
      },
      "source": [
        "As you have seen, the ```shape``` of a Tensor provides the number of elements in each Tensor dimension. The ```shape``` is quite useful, and we'll use it often. You can also use slicing to access subtensors within a higher-rank Tensor:"
      ]
    },
    {
      "cell_type": "code",
      "metadata": {
        "id": "FhaufyObuLEG",
        "colab": {
          "base_uri": "https://localhost:8080/"
        },
        "outputId": "69b17ed0-73bc-4b26-b216-81e266cfb5e9"
      },
      "source": [
        "row_vector = matrix[1]\n",
        "column_vector = matrix[:,2]\n",
        "scalar = matrix[1, 2]\n",
        "\n",
        "print(\"`row_vector`: {}\".format(row_vector.numpy()))\n",
        "print(\"`column_vector`: {}\".format(column_vector.numpy()))\n",
        "print(\"`scalar`: {}\".format(scalar.numpy()))"
      ],
      "execution_count": 15,
      "outputs": [
        {
          "output_type": "stream",
          "name": "stdout",
          "text": [
            "`row_vector`: [4 5 6]\n",
            "`column_vector`: [3 6]\n",
            "`scalar`: 6\n"
          ]
        }
      ]
    },
    {
      "cell_type": "markdown",
      "metadata": {
        "id": "iD3VO-LZYZ2z"
      },
      "source": [
        "## 1.2 Computations on Tensors\n",
        "\n",
        "A convenient way to think about and visualize computations in TensorFlow is in terms of graphs. We can define this graph in terms of Tensors, which hold data, and the mathematical operations that act on these Tensors in some order. Let's look at a simple example, and define this computation using TensorFlow:\n",
        "\n",
        "![alt text](https://raw.githubusercontent.com/aamini/introtodeeplearning/master/lab1/img/add-graph.png)"
      ]
    },
    {
      "cell_type": "code",
      "metadata": {
        "id": "X_YJrZsxYZ2z",
        "colab": {
          "base_uri": "https://localhost:8080/"
        },
        "outputId": "d7b7cfac-32bb-4895-ebcb-5036fbc3c346"
      },
      "source": [
        "# Create the nodes in the graph, and initialize values\n",
        "a = tf.constant(15)\n",
        "b = tf.constant(61)\n",
        "\n",
        "# Add them!\n",
        "c1 = tf.add(a,b)\n",
        "c2 = a + b # TensorFlow overrides the \"+\" operation so that it is able to act on Tensors\n",
        "print(c1)\n",
        "print(c2)"
      ],
      "execution_count": 16,
      "outputs": [
        {
          "output_type": "stream",
          "name": "stdout",
          "text": [
            "tf.Tensor(76, shape=(), dtype=int32)\n",
            "tf.Tensor(76, shape=(), dtype=int32)\n"
          ]
        }
      ]
    },
    {
      "cell_type": "markdown",
      "metadata": {
        "id": "Mbfv_QOiYZ23"
      },
      "source": [
        "Notice how we've created a computation graph consisting of TensorFlow operations, and how  the output is a Tensor with value 76 -- we've just created a computation graph consisting of operations, and it's executed them and given us back the result.\n",
        "\n",
        "Now let's consider a slightly more complicated example:\n",
        "\n",
        "![alt text](https://raw.githubusercontent.com/aamini/introtodeeplearning/master/lab1/img/computation-graph.png)\n",
        "\n",
        "Here, we take two inputs, `a, b`, and compute an output `e`. Each node in the graph represents an operation that takes some input, does some computation, and passes its output to another node.\n",
        "\n",
        "Let's define a simple function in TensorFlow to construct this computation function:"
      ]
    },
    {
      "cell_type": "code",
      "metadata": {
        "scrolled": true,
        "id": "PJnfzpWyYZ23"
      },
      "source": [
        "### Defining Tensor computations ###\n",
        "\n",
        "# Construct a simple computation function\n",
        "def func(a,b):\n",
        "  '''TODO: Define the operation for c, d, e (use tf.add, tf.subtract, tf.multiply).'''\n",
        "  # c = # TODO\n",
        "  # d = # TODO\n",
        "  # e = # TODO\n",
        "  c = tf.add(a,b)\n",
        "  d = tf.subtract(b, 1)\n",
        "  e = tf.multiply(c,d)\n",
        "  return e"
      ],
      "execution_count": 17,
      "outputs": []
    },
    {
      "cell_type": "markdown",
      "metadata": {
        "id": "AwrRfDMS2-oy"
      },
      "source": [
        "Now, we can call this function to execute the computation graph given some inputs `a,b`:"
      ]
    },
    {
      "cell_type": "code",
      "metadata": {
        "id": "pnwsf8w2uF7p",
        "colab": {
          "base_uri": "https://localhost:8080/"
        },
        "outputId": "ebdd1d46-a590-4bd6-b8fd-e1a8e4c2e535"
      },
      "source": [
        "# Consider example values for a,b\n",
        "a, b = 1.5, 2.5\n",
        "# Execute the computation\n",
        "e_out = func(a,b)\n",
        "print(e_out)"
      ],
      "execution_count": 18,
      "outputs": [
        {
          "output_type": "stream",
          "name": "stdout",
          "text": [
            "tf.Tensor(6.0, shape=(), dtype=float32)\n"
          ]
        }
      ]
    },
    {
      "cell_type": "markdown",
      "metadata": {
        "id": "6HqgUIUhYZ29"
      },
      "source": [
        "Notice how our output is a Tensor with value defined by the output of the computation, and that the output has no shape as it is a single scalar value."
      ]
    },
    {
      "cell_type": "markdown",
      "metadata": {
        "id": "1h4o9Bb0YZ29"
      },
      "source": [
        "## 1.3 Neural networks in TensorFlow\n",
        "We can also define neural networks in TensorFlow. TensorFlow uses a high-level API called [Keras](https://www.tensorflow.org/guide/keras) that provides a powerful, intuitive framework for building and training deep learning models.\n",
        "\n",
        "Let's first consider the example of a simple perceptron defined by just one dense layer: $ y = \\sigma(Wx + b)$, where $W$ represents a matrix of weights, $b$ is a bias, $x$ is the input, $\\sigma$ is the sigmoid activation function, and $y$ is the output. We can also visualize this operation using a graph: \n",
        "\n",
        "![alt text](https://raw.githubusercontent.com/aamini/introtodeeplearning/master/lab1/img/computation-graph-2.png)\n",
        "\n",
        "Tensors can flow through abstract types called [```Layers```](https://www.tensorflow.org/api_docs/python/tf/keras/layers/Layer) -- the building blocks of neural networks. ```Layers``` implement common neural networks operations, and are used to update weights, compute losses, and define inter-layer connectivity. We will first define a ```Layer``` to implement the simple perceptron defined above."
      ]
    },
    {
      "cell_type": "code",
      "metadata": {
        "id": "HutbJk-1kHPh",
        "colab": {
          "base_uri": "https://localhost:8080/"
        },
        "outputId": "4e862466-9cca-4dee-ad36-b88e14837f27"
      },
      "source": [
        "### Defining a network Layer ###\n",
        "\n",
        "# n_output_nodes: number of output nodes\n",
        "# input_shape: shape of the input\n",
        "# x: input to the layer\n",
        "\n",
        "class OurDenseLayer(tf.keras.layers.Layer):\n",
        "  def __init__(self, n_output_nodes):\n",
        "    super(OurDenseLayer, self).__init__()\n",
        "    self.n_output_nodes = n_output_nodes\n",
        "\n",
        "  def build(self, input_shape):\n",
        "    d = int(input_shape[-1])\n",
        "    # Define and initialize parameters: a weight matrix W and bias b\n",
        "    # Note that parameter initialization is random!\n",
        "    self.W = self.add_weight(\"weight\", shape=[d, self.n_output_nodes]) # note the dimensionality\n",
        "    self.b = self.add_weight(\"bias\", shape=[1, self.n_output_nodes]) # note the dimensionality\n",
        "\n",
        "  def call(self, x):\n",
        "    '''TODO: define the operation for z (hint: use tf.matmul)'''\n",
        "    # z = # TODO\n",
        "    z = tf.matmul(x, self.W) + self.b\n",
        "\n",
        "    '''TODO: define the operation for out (hint: use tf.sigmoid)'''\n",
        "    # y = # TODO\n",
        "    y = tf.math.sigmoid(z)\n",
        "    return y\n",
        "\n",
        "# Since layer parameters are initialized randomly, we will set a random seed for reproducibility\n",
        "tf.random.set_seed(1)\n",
        "layer = OurDenseLayer(3)\n",
        "layer.build((1,2))\n",
        "x_input = tf.constant([[1,2.]], shape=(1,2))\n",
        "y = layer.call(x_input)\n",
        "\n",
        "# test the output!\n",
        "print(y.numpy())\n",
        "mdl.lab1.test_custom_dense_layer_output(y)"
      ],
      "execution_count": 19,
      "outputs": [
        {
          "output_type": "stream",
          "name": "stdout",
          "text": [
            "[[0.2697859  0.45750412 0.66536945]]\n",
            "[PASS] test_custom_dense_layer_output\n"
          ]
        },
        {
          "output_type": "execute_result",
          "data": {
            "text/plain": [
              "True"
            ]
          },
          "metadata": {},
          "execution_count": 19
        }
      ]
    },
    {
      "cell_type": "markdown",
      "metadata": {
        "id": "Jt1FgM7qYZ3D"
      },
      "source": [
        "Conveniently, TensorFlow has defined a number of ```Layers``` that are commonly used in neural networks, for example a [```Dense```](https://www.tensorflow.org/api_docs/python/tf/keras/layers/Dense?version=stable). Now, instead of using a single ```Layer``` to define our simple neural network, we'll use the  [`Sequential`](https://www.tensorflow.org/versions/r2.0/api_docs/python/tf/keras/Sequential) model from Keras and a single [`Dense` ](https://www.tensorflow.org/versions/r2.0/api_docs/python/tf/keras/layers/Dense) layer to define our network. With the `Sequential` API, you can readily create neural networks by stacking together layers like building blocks. "
      ]
    },
    {
      "cell_type": "code",
      "metadata": {
        "id": "7WXTpmoL6TDz"
      },
      "source": [
        "### Defining a neural network using the Sequential API ###\n",
        "\n",
        "# Import relevant packages\n",
        "from tensorflow.keras import Sequential\n",
        "from tensorflow.keras.layers import Dense\n",
        "\n",
        "# Define the number of outputs\n",
        "n_output_nodes = 3\n",
        "\n",
        "# First define the model \n",
        "model = Sequential()\n",
        "\n",
        "'''TODO: Define a dense (fully connected) layer to compute z'''\n",
        "# Remember: dense layers are defined by the parameters W and b!\n",
        "# You can read more about the initialization of W and b in the TF documentation :) \n",
        "# https://www.tensorflow.org/api_docs/python/tf/keras/layers/Dense?version=stable\n",
        "# dense_layer = # TODO\n",
        "dense_layer = Dense(n_output_nodes, activation=\"sigmoid\")\n",
        "\n",
        "# Add the dense layer to the model\n",
        "model.add(dense_layer)\n"
      ],
      "execution_count": 20,
      "outputs": []
    },
    {
      "cell_type": "markdown",
      "metadata": {
        "id": "HDGcwYfUyR-U"
      },
      "source": [
        "That's it! We've defined our model using the Sequential API. Now, we can test it out using an example input:"
      ]
    },
    {
      "cell_type": "code",
      "metadata": {
        "id": "sg23OczByRDb",
        "colab": {
          "base_uri": "https://localhost:8080/"
        },
        "outputId": "5ec2861b-dfef-499f-bde8-1d5f080c4bad"
      },
      "source": [
        "# Test model with example input\n",
        "x_input = tf.constant([[1,2.]], shape=(1,2))\n",
        "\n",
        "'''TODO: feed input into the model and predict the output!'''\n",
        "# model_output = # TODO\n",
        "model_output = model.predict(x_input)\n",
        "print(model_output)"
      ],
      "execution_count": 22,
      "outputs": [
        {
          "output_type": "stream",
          "name": "stdout",
          "text": [
            "[[0.5607363 0.6566898 0.1249697]]\n"
          ]
        }
      ]
    },
    {
      "cell_type": "markdown",
      "metadata": {
        "id": "596NvsOOtr9F"
      },
      "source": [
        "In addition to defining models using the `Sequential` API, we can also define neural networks by directly subclassing the [`Model`](https://www.tensorflow.org/api_docs/python/tf/keras/Model?version=stable) class, which groups layers together to enable model training and inference. The `Model` class captures what we refer to as a \"model\" or as a \"network\". Using Subclassing, we can create a class for our model, and then define the forward pass through the network using the `call` function. Subclassing affords the flexibility to define custom layers, custom training loops, custom activation functions, and custom models. Let's define the same neural network as above now using Subclassing rather than the `Sequential` model."
      ]
    },
    {
      "cell_type": "code",
      "metadata": {
        "id": "K4aCflPVyViD"
      },
      "source": [
        "### Defining a model using subclassing ###\n",
        "\n",
        "from tensorflow.keras import Model\n",
        "from tensorflow.keras.layers import Dense\n",
        "\n",
        "class SubclassModel(Model):\n",
        "\n",
        "  # In __init__, we define the Model's layers\n",
        "  def __init__(self, n_output_nodes):\n",
        "    super(SubclassModel, self).__init__()\n",
        "    '''TODO: Our model consists of a single Dense layer. Define this layer.''' \n",
        "    # self.dense_layer = '''TODO: Dense Layer'''\n",
        "    self.dense_layer = Dense(n_output_nodes, activation=tf.nn.sigmoid)\n",
        "\n",
        "  # In the call function, we define the Model's forward pass.\n",
        "  def call(self, inputs):\n",
        "    return self.dense_layer(inputs)"
      ],
      "execution_count": 25,
      "outputs": []
    },
    {
      "cell_type": "markdown",
      "metadata": {
        "id": "U0-lwHDk4irB"
      },
      "source": [
        "Just like the model we built using the `Sequential` API, let's test out our `SubclassModel` using an example input.\n",
        "\n"
      ]
    },
    {
      "cell_type": "code",
      "metadata": {
        "id": "LhB34RA-4gXb",
        "colab": {
          "base_uri": "https://localhost:8080/"
        },
        "outputId": "2c625bd2-5b3a-40ca-c2e1-ed1a96f10324"
      },
      "source": [
        "n_output_nodes = 3\n",
        "model = SubclassModel(n_output_nodes)\n",
        "\n",
        "x_input = tf.constant([[1,2.]], shape=(1,2))\n",
        "\n",
        "print(model.call(x_input))"
      ],
      "execution_count": 27,
      "outputs": [
        {
          "output_type": "stream",
          "name": "stdout",
          "text": [
            "tf.Tensor([[0.19695838 0.6330006  0.7668015 ]], shape=(1, 3), dtype=float32)\n"
          ]
        }
      ]
    },
    {
      "cell_type": "markdown",
      "metadata": {
        "id": "HTIFMJLAzsyE"
      },
      "source": [
        "Importantly, Subclassing affords us a lot of flexibility to define custom models. For example, we can use boolean arguments in the `call` function to specify different network behaviors, for example different behaviors during training and inference. Let's suppose under some instances we want our network to simply output the input, without any perturbation. We define a boolean argument `isidentity` to control this behavior:"
      ]
    },
    {
      "cell_type": "code",
      "metadata": {
        "id": "P7jzGX5D1xT5"
      },
      "source": [
        "### Defining a model using subclassing and specifying custom behavior ###\n",
        "\n",
        "from tensorflow.keras import Model\n",
        "from tensorflow.keras.layers import Dense\n",
        "\n",
        "class IdentityModel(tf.keras.Model):\n",
        "\n",
        "  # As before, in __init__ we define the Model's layers\n",
        "  # Since our desired behavior involves the forward pass, this part is unchanged\n",
        "  def __init__(self, n_output_nodes):\n",
        "    super(IdentityModel, self).__init__()\n",
        "    self.dense_layer = tf.keras.layers.Dense(n_output_nodes, activation='sigmoid')\n",
        "\n",
        "  '''TODO: Implement the behavior where the network outputs the input, unchanged, \n",
        "      under control of the isidentity argument.'''\n",
        "  def call(self, inputs, isidentity=False):\n",
        "    x = self.dense_layer(inputs)\n",
        "    '''TODO: Implement identity behavior'''\n",
        "    if isidentity:\n",
        "      return inputs\n",
        "    else:\n",
        "      return x"
      ],
      "execution_count": 28,
      "outputs": []
    },
    {
      "cell_type": "markdown",
      "metadata": {
        "id": "Ku4rcCGx5T3y"
      },
      "source": [
        "Let's test this behavior:"
      ]
    },
    {
      "cell_type": "code",
      "metadata": {
        "id": "NzC0mgbk5dp2",
        "colab": {
          "base_uri": "https://localhost:8080/"
        },
        "outputId": "124b8396-79fe-479a-84b8-109e4cad1799"
      },
      "source": [
        "n_output_nodes = 3\n",
        "model = IdentityModel(n_output_nodes)\n",
        "\n",
        "x_input = tf.constant([[1,2.]], shape=(1,2))\n",
        "'''TODO: pass the input into the model and call with and without the input identity option.'''\n",
        "# out_activate = # TODO\n",
        "# out_identity = # TODO\n",
        "out_activate = model.call(x_input)\n",
        "out_identity = model.call(x_input, True)\n",
        "\n",
        "print(\"Network output with activation: {}; network identity output: {}\".format(out_activate.numpy(), out_identity.numpy()))"
      ],
      "execution_count": 29,
      "outputs": [
        {
          "output_type": "stream",
          "name": "stdout",
          "text": [
            "Network output with activation: [[0.9139061  0.3266745  0.83923274]]; network identity output: [[1. 2.]]\n"
          ]
        }
      ]
    },
    {
      "cell_type": "markdown",
      "metadata": {
        "id": "7V1dEqdk6VI5"
      },
      "source": [
        "Now that we have learned how to define `Layers` as well as neural networks in TensorFlow using both the `Sequential` and Subclassing APIs, we're ready to turn our attention to how to actually implement network training with backpropagation."
      ]
    },
    {
      "cell_type": "markdown",
      "metadata": {
        "id": "dQwDhKn8kbO2"
      },
      "source": [
        "## 1.4 Automatic differentiation in TensorFlow\n",
        "\n",
        "[Automatic differentiation](https://en.wikipedia.org/wiki/Automatic_differentiation)\n",
        "is one of the most important parts of TensorFlow and is the backbone of training with \n",
        "[backpropagation](https://en.wikipedia.org/wiki/Backpropagation). We will use the TensorFlow GradientTape [`tf.GradientTape`](https://www.tensorflow.org/api_docs/python/tf/GradientTape?version=stable) to trace operations for computing gradients later. \n",
        "\n",
        "When a forward pass is made through the network, all forward-pass operations get recorded to a \"tape\"; then, to compute the gradient, the tape is played backwards. By default, the tape is discarded after it is played backwards; this means that a particular `tf.GradientTape` can only\n",
        "compute one gradient, and subsequent calls throw a runtime error. However, we can compute multiple gradients over the same computation by creating a ```persistent``` gradient tape. \n",
        "\n",
        "First, we will look at how we can compute gradients using GradientTape and access them for computation. We define the simple function $ y = x^2$ and compute the gradient:"
      ]
    },
    {
      "cell_type": "code",
      "metadata": {
        "id": "tdkqk8pw5yJM"
      },
      "source": [
        "### Gradient computation with GradientTape ###\n",
        "\n",
        "# y = x^2\n",
        "# Example: x = 3.0\n",
        "x = tf.Variable(3.0)\n",
        "\n",
        "# Initiate the gradient tape\n",
        "with tf.GradientTape() as tape:\n",
        "  # Define the function\n",
        "  y = x * x\n",
        "# Access the gradient -- derivative of y with respect to x\n",
        "dy_dx = tape.gradient(y, x)\n",
        "\n",
        "assert dy_dx.numpy() == 6.0"
      ],
      "execution_count": 30,
      "outputs": []
    },
    {
      "cell_type": "markdown",
      "metadata": {
        "id": "JhU5metS5xF3"
      },
      "source": [
        "In training neural networks, we use differentiation and stochastic gradient descent (SGD) to optimize a loss function. Now that we have a sense of how `GradientTape` can be used to compute and access derivatives, we will look at an example where we use automatic differentiation and SGD to find the minimum of $L=(x-x_f)^2$. Here $x_f$ is a variable for a desired value we are trying to optimize for; $L$ represents a loss that we are trying to  minimize. While we can clearly solve this problem analytically ($x_{min}=x_f$), considering how we can compute this using `GradientTape` sets us up nicely for future labs where we use gradient descent to optimize entire neural network losses."
      ]
    },
    {
      "cell_type": "code",
      "metadata": {
        "attributes": {
          "classes": [
            "py"
          ],
          "id": ""
        },
        "id": "7g1yWiSXqEf-",
        "colab": {
          "base_uri": "https://localhost:8080/",
          "height": 351
        },
        "outputId": "b0494965-6387-4542-daf7-cba193d0c782"
      },
      "source": [
        "### Function minimization with automatic differentiation and SGD ###\n",
        "\n",
        "# Initialize a random value for our initial x\n",
        "x = tf.Variable([tf.random.normal([1])])\n",
        "print(\"Initializing x={}\".format(x.numpy()))\n",
        "\n",
        "learning_rate = 1e-2 # learning rate for SGD\n",
        "history = []\n",
        "# Define the target value\n",
        "x_f = 4\n",
        "\n",
        "# We will run SGD for a number of iterations. At each iteration, we compute the loss, \n",
        "#   compute the derivative of the loss with respect to x, and perform the SGD update.\n",
        "for i in range(500):\n",
        "  with tf.GradientTape() as tape:\n",
        "    '''TODO: define the loss as described above'''\n",
        "    loss = tf.math.square(x - x_f)\n",
        "\n",
        "  # loss minimization using gradient tape\n",
        "  grad = tape.gradient(loss, x) # compute the derivative of the loss with respect to x\n",
        "  new_x = x - learning_rate*grad # sgd update\n",
        "  x.assign(new_x) # update the value of x\n",
        "  history.append(x.numpy()[0])\n",
        "\n",
        "# Plot the evolution of x as we optimize towards x_f!\n",
        "print(history)\n",
        "plt.plot(history)\n",
        "plt.plot([0, 500],[x_f,x_f])\n",
        "plt.legend(('Predicted', 'True'))\n",
        "plt.xlabel('Iteration')\n",
        "plt.ylabel('x value')"
      ],
      "execution_count": 39,
      "outputs": [
        {
          "output_type": "stream",
          "name": "stdout",
          "text": [
            "Initializing x=[[2.260564]]\n",
            "[array([2.2953527], dtype=float32), array([2.3294456], dtype=float32), array([2.3628566], dtype=float32), array([2.3955996], dtype=float32), array([2.4276876], dtype=float32), array([2.4591339], dtype=float32), array([2.4899511], dtype=float32), array([2.520152], dtype=float32), array([2.5497491], dtype=float32), array([2.5787542], dtype=float32), array([2.6071792], dtype=float32), array([2.6350355], dtype=float32), array([2.662335], dtype=float32), array([2.689088], dtype=float32), array([2.7153063], dtype=float32), array([2.7410002], dtype=float32), array([2.7661803], dtype=float32), array([2.7908566], dtype=float32), array([2.8150394], dtype=float32), array([2.8387387], dtype=float32), array([2.861964], dtype=float32), array([2.8847246], dtype=float32), array([2.90703], dtype=float32), array([2.9288895], dtype=float32), array([2.9503117], dtype=float32), array([2.9713054], dtype=float32), array([2.9918792], dtype=float32), array([3.0120416], dtype=float32), array([3.0318007], dtype=float32), array([3.0511646], dtype=float32), array([3.0701413], dtype=float32), array([3.0887384], dtype=float32), array([3.1069636], dtype=float32), array([3.1248243], dtype=float32), array([3.1423278], dtype=float32), array([3.1594813], dtype=float32), array([3.1762917], dtype=float32), array([3.192766], dtype=float32), array([3.2089107], dtype=float32), array([3.2247324], dtype=float32), array([3.2402377], dtype=float32), array([3.2554328], dtype=float32), array([3.2703242], dtype=float32), array([3.2849178], dtype=float32), array([3.2992194], dtype=float32), array([3.313235], dtype=float32), array([3.3269703], dtype=float32), array([3.340431], dtype=float32), array([3.3536224], dtype=float32), array([3.36655], dtype=float32), array([3.379219], dtype=float32), array([3.3916347], dtype=float32), array([3.403802], dtype=float32), array([3.415726], dtype=float32), array([3.4274113], dtype=float32), array([3.438863], dtype=float32), array([3.4500859], dtype=float32), array([3.4610841], dtype=float32), array([3.4718626], dtype=float32), array([3.4824252], dtype=float32), array([3.4927766], dtype=float32), array([3.502921], dtype=float32), array([3.5128627], dtype=float32), array([3.5226054], dtype=float32), array([3.5321534], dtype=float32), array([3.5415103], dtype=float32), array([3.5506802], dtype=float32), array([3.5596666], dtype=float32), array([3.5684733], dtype=float32), array([3.5771039], dtype=float32), array([3.5855618], dtype=float32), array([3.5938506], dtype=float32), array([3.6019735], dtype=float32), array([3.609934], dtype=float32), array([3.6177354], dtype=float32), array([3.6253808], dtype=float32), array([3.632873], dtype=float32), array([3.6402156], dtype=float32), array([3.6474113], dtype=float32), array([3.654463], dtype=float32), array([3.6613739], dtype=float32), array([3.6681464], dtype=float32), array([3.6747835], dtype=float32), array([3.6812878], dtype=float32), array([3.6876621], dtype=float32), array([3.693909], dtype=float32), array([3.7000308], dtype=float32), array([3.7060301], dtype=float32), array([3.7119095], dtype=float32), array([3.7176714], dtype=float32), array([3.7233179], dtype=float32), array([3.7288516], dtype=float32), array([3.7342746], dtype=float32), array([3.7395892], dtype=float32), array([3.7447975], dtype=float32), array([3.7499015], dtype=float32), array([3.7549036], dtype=float32), array([3.7598054], dtype=float32), array([3.7646093], dtype=float32), array([3.7693172], dtype=float32), array([3.7739308], dtype=float32), array([3.7784522], dtype=float32), array([3.7828832], dtype=float32), array([3.7872255], dtype=float32), array([3.791481], dtype=float32), array([3.7956514], dtype=float32), array([3.7997384], dtype=float32), array([3.8037436], dtype=float32), array([3.8076687], dtype=float32), array([3.8115153], dtype=float32), array([3.815285], dtype=float32), array([3.8189793], dtype=float32), array([3.8225996], dtype=float32), array([3.8261476], dtype=float32), array([3.8296247], dtype=float32), array([3.8330321], dtype=float32), array([3.8363714], dtype=float32), array([3.839644], dtype=float32), array([3.8428512], dtype=float32), array([3.8459942], dtype=float32), array([3.8490744], dtype=float32), array([3.852093], dtype=float32), array([3.855051], dtype=float32), array([3.85795], dtype=float32), array([3.860791], dtype=float32), array([3.8635752], dtype=float32), array([3.8663037], dtype=float32), array([3.8689775], dtype=float32), array([3.871598], dtype=float32), array([3.874166], dtype=float32), array([3.8766828], dtype=float32), array([3.8791492], dtype=float32), array([3.8815663], dtype=float32), array([3.883935], dtype=float32), array([3.8862562], dtype=float32), array([3.8885312], dtype=float32), array([3.8907607], dtype=float32), array([3.8929455], dtype=float32), array([3.8950865], dtype=float32), array([3.8971848], dtype=float32), array([3.8992412], dtype=float32), array([3.9012563], dtype=float32), array([3.9032311], dtype=float32), array([3.9051666], dtype=float32), array([3.9070632], dtype=float32), array([3.908922], dtype=float32), array([3.9107435], dtype=float32), array([3.9125285], dtype=float32), array([3.914278], dtype=float32), array([3.9159925], dtype=float32), array([3.9176726], dtype=float32), array([3.9193192], dtype=float32), array([3.9209328], dtype=float32), array([3.9225142], dtype=float32), array([3.924064], dtype=float32), array([3.9255826], dtype=float32), array([3.927071], dtype=float32), array([3.9285297], dtype=float32), array([3.929959], dtype=float32), array([3.9313598], dtype=float32), array([3.9327326], dtype=float32), array([3.934078], dtype=float32), array([3.9353964], dtype=float32), array([3.9366884], dtype=float32), array([3.9379547], dtype=float32), array([3.9391956], dtype=float32), array([3.9404118], dtype=float32), array([3.9416037], dtype=float32), array([3.9427717], dtype=float32), array([3.9439163], dtype=float32), array([3.945038], dtype=float32), array([3.9461374], dtype=float32), array([3.9472146], dtype=float32), array([3.9482703], dtype=float32), array([3.9493048], dtype=float32), array([3.9503188], dtype=float32), array([3.9513125], dtype=float32), array([3.9522862], dtype=float32), array([3.9532406], dtype=float32), array([3.9541757], dtype=float32), array([3.9550922], dtype=float32), array([3.9559903], dtype=float32), array([3.9568706], dtype=float32), array([3.9577332], dtype=float32), array([3.9585786], dtype=float32), array([3.959407], dtype=float32), array([3.960219], dtype=float32), array([3.9610145], dtype=float32), array([3.9617941], dtype=float32), array([3.9625583], dtype=float32), array([3.9633071], dtype=float32), array([3.964041], dtype=float32), array([3.96476], dtype=float32), array([3.9654648], dtype=float32), array([3.9661555], dtype=float32), array([3.9668324], dtype=float32), array([3.9674957], dtype=float32), array([3.9681458], dtype=float32), array([3.968783], dtype=float32), array([3.9694073], dtype=float32), array([3.970019], dtype=float32), array([3.9706187], dtype=float32), array([3.9712064], dtype=float32), array([3.9717822], dtype=float32), array([3.9723465], dtype=float32), array([3.9728997], dtype=float32), array([3.9734416], dtype=float32), array([3.9739728], dtype=float32), array([3.9744933], dtype=float32), array([3.9750035], dtype=float32), array([3.9755034], dtype=float32), array([3.9759934], dtype=float32), array([3.9764736], dtype=float32), array([3.9769442], dtype=float32), array([3.9774053], dtype=float32), array([3.977857], dtype=float32), array([3.9782999], dtype=float32), array([3.9787338], dtype=float32), array([3.979159], dtype=float32), array([3.9795759], dtype=float32), array([3.9799843], dtype=float32), array([3.9803846], dtype=float32), array([3.9807768], dtype=float32), array([3.9811614], dtype=float32), array([3.981538], dtype=float32), array([3.9819074], dtype=float32), array([3.9822693], dtype=float32), array([3.9826238], dtype=float32), array([3.9829714], dtype=float32), array([3.983312], dtype=float32), array([3.9836457], dtype=float32), array([3.9839728], dtype=float32), array([3.9842932], dtype=float32), array([3.9846075], dtype=float32), array([3.9849153], dtype=float32), array([3.9852169], dtype=float32), array([3.9855125], dtype=float32), array([3.9858022], dtype=float32), array([3.9860861], dtype=float32), array([3.9863644], dtype=float32), array([3.986637], dtype=float32), array([3.9869044], dtype=float32), array([3.9871664], dtype=float32), array([3.9874232], dtype=float32), array([3.9876747], dtype=float32), array([3.9879212], dtype=float32), array([3.9881628], dtype=float32), array([3.9883995], dtype=float32), array([3.9886315], dtype=float32), array([3.988859], dtype=float32), array([3.9890819], dtype=float32), array([3.9893003], dtype=float32), array([3.9895144], dtype=float32), array([3.9897242], dtype=float32), array([3.9899297], dtype=float32), array([3.9901311], dtype=float32), array([3.9903286], dtype=float32), array([3.990522], dtype=float32), array([3.9907115], dtype=float32), array([3.9908972], dtype=float32), array([3.9910793], dtype=float32), array([3.9912577], dtype=float32), array([3.9914324], dtype=float32), array([3.9916039], dtype=float32), array([3.9917717], dtype=float32), array([3.9919362], dtype=float32), array([3.9920974], dtype=float32), array([3.9922554], dtype=float32), array([3.9924104], dtype=float32), array([3.9925623], dtype=float32), array([3.992711], dtype=float32), array([3.9928567], dtype=float32), array([3.9929996], dtype=float32), array([3.9931395], dtype=float32), array([3.9932766], dtype=float32), array([3.993411], dtype=float32), array([3.993543], dtype=float32), array([3.9936721], dtype=float32), array([3.9937987], dtype=float32), array([3.9939227], dtype=float32), array([3.9940443], dtype=float32), array([3.9941635], dtype=float32), array([3.9942803], dtype=float32), array([3.9943948], dtype=float32), array([3.9945068], dtype=float32), array([3.9946167], dtype=float32), array([3.9947245], dtype=float32), array([3.9948301], dtype=float32), array([3.9949336], dtype=float32), array([3.995035], dtype=float32), array([3.9951344], dtype=float32), array([3.9952316], dtype=float32), array([3.995327], dtype=float32), array([3.9954205], dtype=float32), array([3.995512], dtype=float32), array([3.9956017], dtype=float32), array([3.9956896], dtype=float32), array([3.995776], dtype=float32), array([3.9958603], dtype=float32), array([3.995943], dtype=float32), array([3.9960241], dtype=float32), array([3.9961038], dtype=float32), array([3.9961817], dtype=float32), array([3.996258], dtype=float32), array([3.996333], dtype=float32), array([3.9964063], dtype=float32), array([3.996478], dtype=float32), array([3.9965484], dtype=float32), array([3.9966176], dtype=float32), array([3.9966853], dtype=float32), array([3.9967515], dtype=float32), array([3.9968166], dtype=float32), array([3.9968803], dtype=float32), array([3.9969428], dtype=float32), array([3.9970038], dtype=float32), array([3.9970636], dtype=float32), array([3.9971223], dtype=float32), array([3.9971797], dtype=float32), array([3.9972363], dtype=float32), array([3.9972916], dtype=float32), array([3.9973457], dtype=float32), array([3.9973989], dtype=float32), array([3.9974508], dtype=float32), array([3.9975019], dtype=float32), array([3.997552], dtype=float32), array([3.9976008], dtype=float32), array([3.9976487], dtype=float32), array([3.9976957], dtype=float32), array([3.9977417], dtype=float32), array([3.9977868], dtype=float32), array([3.997831], dtype=float32), array([3.9978745], dtype=float32), array([3.997917], dtype=float32), array([3.9979587], dtype=float32), array([3.9979994], dtype=float32), array([3.9980395], dtype=float32), array([3.9980786], dtype=float32), array([3.998117], dtype=float32), array([3.9981546], dtype=float32), array([3.9981916], dtype=float32), array([3.9982278], dtype=float32), array([3.9982634], dtype=float32), array([3.9982982], dtype=float32), array([3.9983323], dtype=float32), array([3.9983656], dtype=float32), array([3.9983983], dtype=float32), array([3.9984303], dtype=float32), array([3.9984617], dtype=float32), array([3.9984925], dtype=float32), array([3.9985225], dtype=float32), array([3.998552], dtype=float32), array([3.998581], dtype=float32), array([3.9986093], dtype=float32), array([3.9986372], dtype=float32), array([3.9986644], dtype=float32), array([3.998691], dtype=float32), array([3.9987173], dtype=float32), array([3.998743], dtype=float32), array([3.998768], dtype=float32), array([3.9987926], dtype=float32), array([3.9988167], dtype=float32), array([3.9988403], dtype=float32), array([3.9988635], dtype=float32), array([3.998886], dtype=float32), array([3.9989083], dtype=float32), array([3.9989302], dtype=float32), array([3.9989517], dtype=float32), array([3.9989727], dtype=float32), array([3.9989932], dtype=float32), array([3.9990132], dtype=float32), array([3.999033], dtype=float32), array([3.9990523], dtype=float32), array([3.9990711], dtype=float32), array([3.9990897], dtype=float32), array([3.9991078], dtype=float32), array([3.9991257], dtype=float32), array([3.9991431], dtype=float32), array([3.9991603], dtype=float32), array([3.999177], dtype=float32), array([3.9991934], dtype=float32), array([3.9992096], dtype=float32), array([3.9992254], dtype=float32), array([3.9992409], dtype=float32), array([3.9992561], dtype=float32), array([3.999271], dtype=float32), array([3.9992855], dtype=float32), array([3.9992998], dtype=float32), array([3.9993138], dtype=float32), array([3.9993277], dtype=float32), array([3.999341], dtype=float32), array([3.9993541], dtype=float32), array([3.999367], dtype=float32), array([3.9993796], dtype=float32), array([3.999392], dtype=float32), array([3.9994042], dtype=float32), array([3.999416], dtype=float32), array([3.9994278], dtype=float32), array([3.9994392], dtype=float32), array([3.9994504], dtype=float32), array([3.9994614], dtype=float32), array([3.9994721], dtype=float32), array([3.9994826], dtype=float32), array([3.999493], dtype=float32), array([3.9995031], dtype=float32), array([3.9995131], dtype=float32), array([3.999523], dtype=float32), array([3.9995325], dtype=float32), array([3.9995418], dtype=float32), array([3.9995508], dtype=float32), array([3.9995599], dtype=float32), array([3.9995687], dtype=float32), array([3.9995773], dtype=float32), array([3.9995856], dtype=float32), array([3.999594], dtype=float32), array([3.999602], dtype=float32), array([3.99961], dtype=float32), array([3.9996178], dtype=float32), array([3.9996254], dtype=float32), array([3.9996328], dtype=float32), array([3.9996402], dtype=float32), array([3.9996474], dtype=float32), array([3.9996545], dtype=float32), array([3.9996614], dtype=float32), array([3.9996681], dtype=float32), array([3.9996748], dtype=float32), array([3.9996812], dtype=float32), array([3.9996877], dtype=float32), array([3.9996939], dtype=float32), array([3.9997], dtype=float32), array([3.999706], dtype=float32), array([3.999712], dtype=float32), array([3.9997177], dtype=float32), array([3.9997234], dtype=float32), array([3.999729], dtype=float32), array([3.9997344], dtype=float32), array([3.9997396], dtype=float32), array([3.999745], dtype=float32), array([3.99975], dtype=float32), array([3.999755], dtype=float32), array([3.99976], dtype=float32), array([3.9997647], dtype=float32), array([3.9997694], dtype=float32), array([3.999774], dtype=float32), array([3.9997785], dtype=float32), array([3.999783], dtype=float32), array([3.9997873], dtype=float32), array([3.9997916], dtype=float32), array([3.9997957], dtype=float32), array([3.9997997], dtype=float32), array([3.9998038], dtype=float32), array([3.9998076], dtype=float32), array([3.9998114], dtype=float32), array([3.9998152], dtype=float32), array([3.9998188], dtype=float32), array([3.9998224], dtype=float32), array([3.999826], dtype=float32), array([3.9998295], dtype=float32), array([3.9998329], dtype=float32), array([3.9998362], dtype=float32), array([3.9998395], dtype=float32), array([3.9998426], dtype=float32), array([3.9998457], dtype=float32), array([3.9998488], dtype=float32), array([3.999852], dtype=float32), array([3.9998548], dtype=float32), array([3.9998577], dtype=float32), array([3.9998605], dtype=float32), array([3.9998634], dtype=float32), array([3.999866], dtype=float32), array([3.9998686], dtype=float32), array([3.9998713], dtype=float32), array([3.9998739], dtype=float32), array([3.9998765], dtype=float32), array([3.999879], dtype=float32), array([3.9998813], dtype=float32), array([3.9998837], dtype=float32), array([3.999886], dtype=float32), array([3.9998884], dtype=float32), array([3.9998906], dtype=float32), array([3.9998927], dtype=float32), array([3.9998949], dtype=float32), array([3.999897], dtype=float32), array([3.9998991], dtype=float32), array([3.999901], dtype=float32), array([3.999903], dtype=float32), array([3.9999049], dtype=float32), array([3.9999068], dtype=float32), array([3.9999087], dtype=float32), array([3.9999106], dtype=float32), array([3.9999123], dtype=float32), array([3.999914], dtype=float32), array([3.9999156], dtype=float32), array([3.9999173], dtype=float32), array([3.999919], dtype=float32), array([3.9999206], dtype=float32), array([3.9999223], dtype=float32), array([3.999924], dtype=float32), array([3.9999254], dtype=float32), array([3.9999268], dtype=float32), array([3.9999282], dtype=float32)]\n"
          ]
        },
        {
          "output_type": "execute_result",
          "data": {
            "text/plain": [
              "Text(0, 0.5, 'x value')"
            ]
          },
          "metadata": {},
          "execution_count": 39
        },
        {
          "output_type": "display_data",
          "data": {
            "text/plain": [
              "<Figure size 432x288 with 1 Axes>"
            ],
            "image/png": "[encoded data removed]"
          },
          "metadata": {
            "needs_background": "light"
          }
        }
      ]
    },
    {
      "cell_type": "markdown",
      "metadata": {
        "id": "pC7czCwk3ceH"
      },
      "source": [
        "`GradientTape` provides an extremely flexible framework for automatic differentiation. In order to back propagate errors through a neural network, we track forward passes on the Tape, use this information to determine the gradients, and then use these gradients for optimization using SGD."
      ]
    },
    {
      "cell_type": "code",
      "source": [
        ""
      ],
      "metadata": {
        "id": "ihbM73DmmLUQ"
      },
      "execution_count": null,
      "outputs": []
    }
  ]
}